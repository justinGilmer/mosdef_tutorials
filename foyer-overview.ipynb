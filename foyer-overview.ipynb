{
 "cells": [
  {
   "cell_type": "markdown",
   "metadata": {},
   "source": [
    "# MoSDeF - A Molecular Simulation Design Framework\n",
    "\n",
    "## Foyer Overview\n",
    "Foyer is designed to be a force field agnostic tool for performing atom-typing that can output to various file formats. A key aspect of Foyer is the ability to unambiguously define force field usage rules in compact format that is:\n",
    "- simultaneously human and machine readable\n",
    "- can be automatically validated\n",
    "- easy to disseminate \n",
    "- easy to evolve and expand.\n",
    "\n",
    "### File Format\n",
    "Foyer force fields are defined within an XML file that contains both the 'rules' required for atomtyping as well as the force field parameters within a single file. \n",
    "\n",
    "The Foyer XML format is an extension of the [OpenMM forcefield XML format](http://docs.openmm.org/7.0.0/userguide/application.html#creating-force-fields). The only differences reside in the `AtomTypes` section, where several additional attributes are available (which we will examine in a moment) that allow for atomtyping.\n",
    "\n",
    "The `AtomTypes` section of the Foyer XML is similar to that used for OpenMM forcefield XMLs; however, each `Type` in Foyer XML supports four additional attributes not found in OpenMM:\n",
    "* `def` - SMARTS string describing the chemical substructure of this atom type, as discussed later (Follow [this link](https://github.com/mosdef-hub/foyer/blob/master/docs/smarts.md) for more on SMARTS-based atomtyping using Foyer.)\n",
    "* `desc` - Brief description of the atomtype\n",
    "* `doi` - DOI reference for parameters associated with this atomtype\n",
    "* `overrides` - One or more atomtypes to 'override', providing precedence to this atomtype (discussed later)\n",
    "\n",
    "\n",
    "Let's quickly look at a Foyer XML file:\n"
   ]
  },
  {
   "cell_type": "code",
   "execution_count": 1,
   "metadata": {},
   "outputs": [
    {
     "name": "stdout",
     "output_type": "stream",
     "text": [
      "<ForceField>\r\n",
      "  <AtomTypes>\r\n",
      "    <Type name=\"opls_135\" class=\"CT\" element=\"C\" mass=\"12.01100\"\r\n",
      "          def=\"[C;X4](C)(H)(H)H\" desc=\"alkane CH3\" doi=\"10.1063/1.474052\"/>\r\n",
      "    <Type name=\"opls_136\" class=\"CT\" element=\"C\" mass=\"12.01100\"\r\n",
      "          def=\"[C;X4](C)(C)(H)H\" desc=\"alkane CH2\" doi=\"10.1063/1.474052\"/>\r\n",
      "    <Type name=\"opls_140\" class=\"HC\" element=\"H\" mass=\"1.00800\"\r\n",
      "          def=\"H[C;X4]\" desc=\"alkane H\" doi=\"10.1021/ja9621760\"/>\r\n",
      "    <Type name=\"opls_154\" class=\"OH\" element=\"O\" mass=\"15.9994\"\r\n",
      "          def=\"[O;X2](C)H\" desc=\"all-atom O: mono alcohols\"\r\n",
      "          doi=\"10.1021/ja9621760\"/>\r\n",
      "    <Type name=\"opls_155\" class=\"HO\" element=\"H\" mass=\"1.00800\"\r\n",
      "          def=\"H[O;%opls_154]\" desc=\"all-atom H(O): mono alcohols\"\r\n",
      "          doi=\"10.1021/ja9621760\"/>\r\n",
      "    <Type name=\"opls_157\" class=\"CT\" element=\"C\" mass=\"12.01100\"\r\n",
      "          def=\"[C;X4](H)(H)(C)[O;%opls_154]\"\r\n",
      "          desc=\"all-atom C: CH3 and CH2, alcohols\"\r\n",
      "          overrides=\"opls_136\" doi=\"10.1021/ja9621760\"/>\r\n",
      "  </AtomTypes>\r\n",
      "  <HarmonicBondForce>\r\n",
      "    <Bond class1=\"CT\" class2=\"CT\" length=\"0.1529\" k=\"224262.4\"/>\r\n",
      "    <Bond class1=\"CT\" class2=\"HC\" length=\"0.109\" k=\"284512.0\"/>\r\n",
      "    <Bond class1=\"CT\" class2=\"OH\" length=\"0.141\" k=\"267776.0\"/>\r\n",
      "    <Bond class1=\"HO\" class2=\"OH\" length=\"0.0945\" k=\"462750.4\"/>\r\n",
      "  </HarmonicBondForce>\r\n",
      "  <HarmonicAngleForce>\r\n",
      "    <Angle class1=\"CT\" class2=\"CT\" class3=\"CT\" angle=\"1.966986067\" k=\"488.273\"/>\r\n",
      "    <Angle class1=\"CT\" class2=\"CT\" class3=\"HC\" angle=\"1.93207948196\" k=\"313.8\"/>\r\n",
      "    <Angle class1=\"HC\" class2=\"CT\" class3=\"HC\" angle=\"1.88146493365\" k=\"276.144\"/>\r\n",
      "    <Angle class1=\"CT\" class2=\"OH\" class3=\"HO\" angle=\"1.89368223841\" k=\"460.24\"/>\r\n",
      "    <Angle class1=\"HC\" class2=\"CT\" class3=\"OH\" angle=\"1.91113553093\" k=\"292.88\"/>\r\n",
      "    <Angle class1=\"CT\" class2=\"CT\" class3=\"OH\" angle=\"1.91113553093\" k=\"418.4\"/>\r\n",
      "  </HarmonicAngleForce>\r\n",
      "  <RBTorsionForce>\r\n",
      "    <Proper class1=\"CT\" class2=\"CT\" class3=\"CT\" class4=\"CT\"\r\n",
      "            c0=\"2.9288\" c1=\"-1.4644\" c2=\"0.2092\" c3=\"-1.6736\" c4=\"0.0\" c5=\"0.0\"/>\r\n",
      "    <Proper class1=\"CT\" class2=\"CT\" class3=\"CT\" class4=\"HC\"\r\n",
      "            c0=\"0.6276\" c1=\"1.8828\" c2=\"0.0\" c3=\"-2.5104\" c4=\"0.0\" c5=\"0.0\"/>\r\n",
      "    <Proper class1=\"HC\" class2=\"CT\" class3=\"CT\" class4=\"HC\"\r\n",
      "            c0=\"0.6276\" c1=\"1.8828\" c2=\"0.0\" c3=\"-2.5104\" c4=\"0.0\" c5=\"0.0\"/>\r\n",
      "    <Proper class1=\"CT\" class2=\"CT\" class3=\"OH\" class4=\"HO\"\r\n",
      "            c0=\"-0.4435\" c1=\"3.83255\" c2=\"0.72801\" c3=\"-4.11705\" c4=\"0.0\" c5=\"0.0\"/>\r\n",
      "    <Proper class1=\"CT\" class2=\"CT\" class3=\"CT\" class4=\"OH\"\r\n",
      "            c0=\"2.87441\" c1=\"0.58158\" c2=\"2.092\" c3=\"-5.54799\" c4=\"0.0\" c5=\"0.0\"/>\r\n",
      "    <Proper class1=\"HC\" class2=\"CT\" class3=\"OH\" class4=\"HO\"\r\n",
      "            c0=\"0.9414\" c1=\"2.8242\" c2=\"0.0\" c3=\"-3.7656\" c4=\"0.0\" c5=\"0.0\"/>\r\n",
      "    <Proper class1=\"HC\" class2=\"CT\" class3=\"CT\" class4=\"OH\"\r\n",
      "            c0=\"0.97905\" c1=\"2.93716\" c2=\"0.0\" c3=\"-3.91622\" c4=\"0.0\" c5=\"0.0\"/>\r\n",
      "  </RBTorsionForce>\r\n",
      "  <NonbondedForce coulomb14scale=\"0.5\" lj14scale=\"0.5\">\r\n",
      "    <Atom type=\"opls_135\" charge=\"-0.18\" sigma=\"0.35\" epsilon=\"0.276144\"/>\r\n",
      "    <Atom type=\"opls_136\" charge=\"-0.12\" sigma=\"0.35\" epsilon=\"0.276144\"/>\r\n",
      "    <Atom type=\"opls_140\" charge=\"0.06\" sigma=\"0.25\" epsilon=\"0.12552\"/>\r\n",
      "    <Atom type=\"opls_154\" charge=\"-0.683\" sigma=\"0.312\" epsilon=\"0.71128\"/>\r\n",
      "    <Atom type=\"opls_155\" charge=\"0.418\" sigma=\"1.0\" epsilon=\"0.0\"/>\r\n",
      "    <Atom type=\"opls_157\" charge=\"0.145\" sigma=\"0.35\" epsilon=\"0.276144\"/>\r\n",
      "  </NonbondedForce>\r\n",
      "</ForceField>\r\n"
     ]
    }
   ],
   "source": [
    "###probably should change this to the PFA one\n",
    "!cat utils/oplsaa-alcohol.xml"
   ]
  },
  {
   "cell_type": "markdown",
   "metadata": {},
   "source": [
    "## Defining Chemical Context (i.e., \"Rules\") using SMARTS\n",
    "\n",
    "Classical force fields are typically able to achieve high accuracy by creating sets of highly specific fitting parameters (i.e., atom types), in which each atom type describes an interaction site within a different chemical context. The chemical context is typically defined by the bonded environment of an interaction site (e.g., the number of bonds and the identity of the bonded neighbors) and may also consider, among other factors, the bonded environment of the neighbors, and/or the specific molecule/structure within which the interaction site is included.  Chemical context effectively defines the 'rules' for when an atomtype should apply. \n",
    "\n",
    "Foyer relies upon using [SMARTS](http://www.daylight.com/dayhtml/doc/theory/theory.smarts.html) to define the chemical context of an atom-type. SMARTS is a language for describing chemical structures and substructures; in Foyer we tend focus on substructures (that is, we aren't defining SMARTS as a means to define the entire molecule, but rather to uniquely differentiate each atom-type). \n",
    "\n",
    "Consider defining the chemical context of the atoms in a methane molecule ($CH_4$) using SMARTS.  The first thing to note is that there are multiple valid SMARTS that could describe the atom.  \n",
    "- For example, the simplest way to describe the carbon atom in methane would be ```[C]```.  \n",
    "- While in some cases such a simple definition may be sufficient, typically we wish to also define the number of bond, e.g., ```[C;X4]```. Note, ```;``` represents ```AND```, thus stating that the atom is a carbon with 4 bonds. \n",
    "- Often it is useful to further define the identity of those bonds. In this case, ```[C;X4](H)(H)(H)(H)```. \n",
    " "
   ]
  },
  {
   "cell_type": "markdown",
   "metadata": {},
   "source": [
    "### Exercise 1\n",
    "\n",
    "Modify the \"forcefield_exercise1.xml\" file to define SMARTS strings to define atomtypes for simple linear alkanes, for our fictious forcefield \"mosdef_ff\". \n",
    "Here, the atom types for \"mosdef_ff\" are:\n",
    "\n",
    "* `mff_0`: carbon in methane (CH_4)\n",
    "* `mff_1`: carbon in a terminal methyl group of a linear chain (-CH_3)\n",
    "* `mff_2`: carbon in a middle methyl group of a linear chain (-CH_2-)\n",
    "* `mff_3`: a hydrogen atom\n",
    "\n",
    "After defining the appropriate SMARTS strings, run the test suite to ensure you did it correctly"
   ]
  },
  {
   "cell_type": "code",
   "execution_count": null,
   "metadata": {},
   "outputs": [],
   "source": [
    "# !pytest -v "
   ]
  },
  {
   "cell_type": "markdown",
   "metadata": {},
   "source": [
    "### Working with coarse-grained and united atom forcefields\n",
    "\n",
    "Foyer allows non-atomistic types to be defined within SMARTS, allowing coarse-grained and united atom forcefields to be handled as well. Non-elemental species can easily be defined by pre-pending the name of custom \"element\" with an underscore.\n",
    "\n",
    "For example, let us consider defining the SMARTS for a simple homopolymer composed of \"A\" beads, where terminal groups are of atom type \"cg_term\" and middle groups are \"cg_mid\". Here, the key differentiation between atom types is the number of bonds (1 for cg_term, 2 for cg_mid): \n",
    "\n",
    "- `cg_term` : `[_A;X1]`\n",
    "- `cg_mid` : `[_A;X2]`\n",
    "\n",
    "Similarly, the following lines could be used to describe beads representing $-CH_2-$ groups in a polymer using the TraPPE forcefield. \n",
    "\n",
    "`  <Type name=\"CH2_sp3\" class=\"CH2\" element=\"_CH2\" mass=\"14.02700\" \n",
    "   def=\"[_CH2;X2]([_CH3,_CH2])[_CH3,_CH2]\" \n",
    "   desc=\"Alkane CH2, united atom\" doi=\"10.1021/jp972543+\"/>`\n",
    "  \n",
    "Here, the SMARTS definition `[_CH2;X2]([_CH3,_CH2])[_CH3,_CH2]` states that for atom-type `CH2_sp3`\n",
    "\n",
    "- our bead is `_CH2` with 2 bonded neighbors, i.e., `[_CH2;X2]`\n",
    "- those neighbors can be either `_CH2` or `_CH3`, since, i.e., `([_CH3,_CH2])[_CH3,_CH2]` (note, `,`  represents an \"or\" statement).\n",
    "\n"
   ]
  },
  {
   "cell_type": "markdown",
   "metadata": {},
   "source": [
    "### Using  `overrides` to set rule precendence\n",
    "\n",
    "Force fields often contain atom types that ostensively have matching chemical context (at least in term of local bonded environment), but require different parameters.  For example, consider defining the a force field for both alkenes and benzene in a single file for the OPLS force field:\n",
    "\n",
    "`\n",
    "<ForceField>\n",
    "  <AtomTypes>\n",
    "    <Type name=\"opls_141\" class=\"CM\" element=\"C\" mass=\"12.01100\"\\\\\n",
    "\tdef=\"[C;X3](C)(C)C\" desc=\"alkene C (R2-C=)\"/>\n",
    "    <Type name=\"opls_142\" class=\"CM\" element=\"C\" mass=\"12.01100\"\\\\\n",
    "\tdef=\"[C;X3](C)(C)H\" desc=\"alkene C (RH-C=)\"/>\n",
    "    <Type name=\"opls_144\" class=\"HC\" element=\"H\" mass=\"1.00800\"\\\\\n",
    "\tdef=\"[H][C;X3]\" desc=\"alkene H\"/>\n",
    "    <Type name=\"opls_145\" class=\"CA\" element=\"C\" mass=\"12.01100\"\\\\\n",
    "\tdef=\"[C;X3;r6]1[C;X3;r6][C;X3;r6][C;X3;r6][C;X3;r6][C;X3;r6]1\"\\\\\n",
    "\toverrides=\"opls_142\"/>\n",
    "    <Type name=\"opls_146\" class=\"HA\" element=\"H\" mass=\"1.00800\"\\\\\n",
    "\tdef=\"[H][C;%opls_145]\" overrides=\"opls_144\" desc=\"benzene H\"/>\n",
    "  </AtomTypes>\n",
    "</ForceField>\n",
    "`\n",
    "\n",
    "When atom-typing a benzene molecule, the carbon atoms in the ring will match the SMARTS patterns for both `opls_142` (an alkene carbon) and `opls_145` (a benzene carbon). \n",
    "\n",
    "\n",
    "`Foyer` allows rule precedence to be explicitly stated via the use of the `overrides` attribute added to the XML file format. This allows atom type usage rules to be encoded in any order within the file, eliminating incorrectly placed rule order as a source of error.  Providing the `overrides` indicates that if the `opls_145` pattern matches, it will supersede `opls_142`.\n",
    "\n",
    "\n",
    "`Foyer` iteratively evaluates all rules on all interaction sites in the system, maintaining for each  interaction site a \"whitelist\" consisting of rules that evaluate to `True` and a \"blacklist\" consisting  of rules that have been superseded by another rule (i.e., those that appear in the `overrides` attribute). The set difference between the white- and blacklists of an interaction site yields the correct atom type if the force field is implemented correctly. Thus, in this example the difference between the whitelist (containing `opls_142` and `opls_145`) and blacklist (containing only `opls_142`) would be `opls_145`.\n"
   ]
  },
  {
   "cell_type": "markdown",
   "metadata": {},
   "source": [
    "## Force field application with `Foyer`. Generating data files.\n",
    "\n",
    "If we wanted to actually run a simulation of any of these systems we've built with mBuild, we would need to apply a force field and write the necessary data files. mBuild handles all of this through a single `save` command, where we can pass as arguments the name of the force field to apply (which uses `Foyer` under the hood) and the name of the file to create, which will be formatted based on the extension.\n",
    "\n",
    "\n",
    "First, let's consider how we would write to Gromacs `TOP` and `GRO` formats.\n",
    "\n",
    "The `GRO` format contains no force field information, so we do not have to pass a force field file to `save` when writing to this format.\n",
    "\n",
    "We will also specify a `residues` argument. In this case, we are saying to treat every `Compound` with the name `Octanol` as a separate residue."
   ]
  },
  {
   "cell_type": "code",
   "execution_count": null,
   "metadata": {},
   "outputs": [],
   "source": [
    "import mbuild as mb\n",
    "# copy from mbuild-overview and assert it works!\n",
    "# octanol or octane\n",
    "\n",
    "octanol_box.save('system.gro', residues='Octanol', overwrite=True)"
   ]
  },
  {
   "cell_type": "markdown",
   "metadata": {},
   "source": [
    "\n",
    "Let's first take a quick look at this file."
   ]
  },
  {
   "cell_type": "code",
   "execution_count": null,
   "metadata": {},
   "outputs": [],
   "source": [
    "!cat utils/oplsaa-alcohol.xml"
   ]
  },
  {
   "cell_type": "markdown",
   "metadata": {},
   "source": [
    "With this force field XML file, Foyer will use the SMARTS strings to atom-type our system and will then apply the proper force field parameters. We'll execute the `save` method again, this time passing through our force field file and changing the desired file format from GRO to TOP. Additionally, as OPLS uses geometric mixing rules as opposed to Lorentz-Berthelot, we can feed this to `save` as well.\n",
    "\n",
    "**Note:** The warning message about unparameterized impropers can be safely ignored, as OPLS does not include any impropers for our system. By default, Foyer will warn the user if improper parameters are not specified for all possible impropers and will exit with an error if bond, angle, or dihedral parameters are not specified for all possible bonds, angles, dihedrals. (This behavior may be overridden if desired.)"
   ]
  },
  {
   "cell_type": "code",
   "execution_count": null,
   "metadata": {},
   "outputs": [],
   "source": [
    "octanol_box.save('system.top', forcefield_files='utils/oplsaa-alcohol.xml', residues='Octanol',\n",
    "                 combining_rule='geometric', overwrite=True)"
   ]
  },
  {
   "cell_type": "markdown",
   "metadata": {},
   "source": [
    "Finally, just to prove that these files were written correctly, we can take a quick peek."
   ]
  },
  {
   "cell_type": "code",
   "execution_count": null,
   "metadata": {},
   "outputs": [],
   "source": [
    "!cat system.top"
   ]
  },
  {
   "cell_type": "markdown",
   "metadata": {},
   "source": [
    "This concludes the general MoSDeF overview. For more in-depth tutorials into mBuild and Foyer, refer to the [mosdef_tutorials repository](https://github.com/mosdef-hub/mosdef_tutorials) or use our [Binder link](https://mybinder.org/v2/gh/mosdef-hub/mosdef_tutorials/master)."
   ]
  },
  {
   "cell_type": "code",
   "execution_count": null,
   "metadata": {},
   "outputs": [],
   "source": []
  }
 ],
 "metadata": {
  "anaconda-cloud": {},
  "kernelspec": {
   "display_name": "Python 3",
   "language": "python",
   "name": "python3"
  },
  "language_info": {
   "codemirror_mode": {
    "name": "ipython",
    "version": 3
   },
   "file_extension": ".py",
   "mimetype": "text/x-python",
   "name": "python",
   "nbconvert_exporter": "python",
   "pygments_lexer": "ipython3",
   "version": "3.5.5"
  }
 },
 "nbformat": 4,
 "nbformat_minor": 1
}
